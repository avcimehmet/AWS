{
 "cells": [
  {
   "cell_type": "code",
   "execution_count": 17,
   "metadata": {},
   "outputs": [
    {
     "name": "stdout",
     "output_type": "stream",
     "text": [
      "Not Valid Input !!!\n",
      "Not Valid Input !!!\n"
     ]
    },
    {
     "ename": "ValueError",
     "evalue": "invalid literal for int() with base 10: 'ten'",
     "output_type": "error",
     "traceback": [
      "\u001b[0;31m---------------------------------------------------------------------------\u001b[0m",
      "\u001b[0;31mValueError\u001b[0m                                Traceback (most recent call last)",
      "\u001b[1;32m/Users/mehmetavci/Desktop/AWS/python/coding-challenges/roman_numerals.ipynb Cell 1'\u001b[0m in \u001b[0;36m<cell line: 37>\u001b[0;34m()\u001b[0m\n\u001b[1;32m     <a href='vscode-notebook-cell:/Users/mehmetavci/Desktop/AWS/python/coding-challenges/roman_numerals.ipynb#ch0000000?line=33'>34</a>\u001b[0m             n \u001b[39m=\u001b[39m \u001b[39m0\u001b[39m\n\u001b[1;32m     <a href='vscode-notebook-cell:/Users/mehmetavci/Desktop/AWS/python/coding-challenges/roman_numerals.ipynb#ch0000000?line=34'>35</a>\u001b[0m             exit \u001b[39m=\u001b[39m \u001b[39mFalse\u001b[39;00m\n\u001b[0;32m---> <a href='vscode-notebook-cell:/Users/mehmetavci/Desktop/AWS/python/coding-challenges/roman_numerals.ipynb#ch0000000?line=36'>37</a>\u001b[0m converter()\n",
      "\u001b[1;32m/Users/mehmetavci/Desktop/AWS/python/coding-challenges/roman_numerals.ipynb Cell 1'\u001b[0m in \u001b[0;36mconverter\u001b[0;34m()\u001b[0m\n\u001b[1;32m     <a href='vscode-notebook-cell:/Users/mehmetavci/Desktop/AWS/python/coding-challenges/roman_numerals.ipynb#ch0000000?line=16'>17</a>\u001b[0m           \u001b[39mprint\u001b[39m(\u001b[39m'\u001b[39m\u001b[39m\"\u001b[39m\u001b[39mExiting the program... Good Bye\u001b[39m\u001b[39m\"\u001b[39m\u001b[39m'\u001b[39m)\n\u001b[1;32m     <a href='vscode-notebook-cell:/Users/mehmetavci/Desktop/AWS/python/coding-challenges/roman_numerals.ipynb#ch0000000?line=17'>18</a>\u001b[0m           \u001b[39mbreak\u001b[39;00m\n\u001b[0;32m---> <a href='vscode-notebook-cell:/Users/mehmetavci/Desktop/AWS/python/coding-challenges/roman_numerals.ipynb#ch0000000?line=18'>19</a>\u001b[0m         \u001b[39melif\u001b[39;00m \u001b[39mint\u001b[39;49m(entry) \u001b[39m==\u001b[39m \u001b[39m0\u001b[39m:\n\u001b[1;32m     <a href='vscode-notebook-cell:/Users/mehmetavci/Desktop/AWS/python/coding-challenges/roman_numerals.ipynb#ch0000000?line=19'>20</a>\u001b[0m             \u001b[39mprint\u001b[39m(\u001b[39m'\u001b[39m\u001b[39mNot Valid Input !!!\u001b[39m\u001b[39m'\u001b[39m)\n\u001b[1;32m     <a href='vscode-notebook-cell:/Users/mehmetavci/Desktop/AWS/python/coding-challenges/roman_numerals.ipynb#ch0000000?line=20'>21</a>\u001b[0m             entry \u001b[39m=\u001b[39m \u001b[39minput\u001b[39m(\u001b[39m'\u001b[39m\u001b[39m###  This program converts decimal numbers to Roman Numerals ### \u001b[39m\u001b[39m\\\u001b[39;00m\n\u001b[1;32m     <a href='vscode-notebook-cell:/Users/mehmetavci/Desktop/AWS/python/coding-challenges/roman_numerals.ipynb#ch0000000?line=21'>22</a>\u001b[0m \u001b[39m\\n\u001b[39;00m\u001b[39m(To exit the program, please type \u001b[39m\u001b[39m\"\u001b[39m\u001b[39mexit\u001b[39m\u001b[39m\"\u001b[39m\u001b[39m) Pls enter a number between 1 and 3999, inclusively : \u001b[39m\u001b[39m'\u001b[39m)\n",
      "\u001b[0;31mValueError\u001b[0m: invalid literal for int() with base 10: 'ten'"
     ]
    }
   ],
   "source": [
    "conv_dict = {\n",
    "    '0':'', '1':'I', '2':'II', '3':'III', '4':'IV', '5':'V', '6':'VI', '7':'VII', '8':'VIII', '9':'IX',\n",
    "    '10':'X', '20':'XX', '30':'XXX', '40':'XL', '50':'L', '60':'LX', '70':'LXX', '80':'LXXX', '90':'XC',\n",
    "    '100':'C', '200':'CC', '300':'CCC', '400':'CD', '500':'D', '600':'DC', '700':'DCC', '800':'DCCC', '900':'CM',\n",
    "    '1000':'M', '2000':'MM', '3000':'MMM'\n",
    "}\n",
    "\n",
    "def converter():\n",
    "    n = 0\n",
    "    roman_nr = []\n",
    "    exit = 0\n",
    "    while exit == False:\n",
    "        global entry\n",
    "        entry = input('###  This program converts decimal numbers to Roman Numerals ### \\\n",
    "\\n(To exit the program, please type \"exit\") Pls enter a number between 1 and 3999, inclusively : ')\n",
    "        if entry.lower() == 'exit':\n",
    "          print('\"Exiting the program... Good Bye\"')\n",
    "          break\n",
    "        elif int(entry) == 0:\n",
    "            print('Not Valid Input !!!')\n",
    "            entry = input('###  This program converts decimal numbers to Roman Numerals ### \\\n",
    "\\n(To exit the program, please type \"exit\") Pls enter a number between 1 and 3999, inclusively : ')\n",
    "        try:\n",
    "            for i in range(1, len(entry)+1):\n",
    "                result = (int(entry[(-i)])*(10**n))\n",
    "                roman_nr.insert(0, conv_dict[str(result)])\n",
    "                n += 1\n",
    "            output = ''.join(roman_nr)\n",
    "            print('The conversion of \"{}\" to Roman Numerals is \"{}\".'.format(entry, output))\n",
    "            exit = True\n",
    "        except (ValueError, KeyError):\n",
    "            print('Not Valid Input !!!')\n",
    "            roman_nr = []\n",
    "            n = 0\n",
    "            exit = False\n",
    "\n",
    "converter()"
   ]
  },
  {
   "cell_type": "code",
   "execution_count": null,
   "metadata": {},
   "outputs": [],
   "source": []
  }
 ],
 "metadata": {
  "interpreter": {
   "hash": "aee8b7b246df8f9039afb4144a1f6fd8d2ca17a180786b69acc140d282b71a49"
  },
  "kernelspec": {
   "display_name": "Python 3.10.4 64-bit",
   "language": "python",
   "name": "python3"
  },
  "language_info": {
   "name": "python",
   "version": "3.10.4"
  },
  "orig_nbformat": 4
 },
 "nbformat": 4,
 "nbformat_minor": 2
}
