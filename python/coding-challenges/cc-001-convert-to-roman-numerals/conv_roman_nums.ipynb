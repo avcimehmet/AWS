{
 "cells": [
  {
   "cell_type": "code",
   "execution_count": 60,
   "metadata": {},
   "outputs": [
    {
     "name": "stdout",
     "output_type": "stream",
     "text": [
      "The conversion of \"3999\" to Roman Numerals is \"MMMCMXCIX\".\n"
     ]
    }
   ],
   "source": [
    "entry = input()\n",
    "\n",
    "conv_dict = {\n",
    "    '1':'I', '2':'II', '3':'III', '4':'IV', '5':'V', '6':'VI', '7':'VII', '8':'VIII', '9':'IX',\n",
    "    '10':'X', '20':'XX', '30':'XXX', '40':'XL', '50':'L', '60':'LX', '70':'LXX', '80':'LXXX', '90':'XC',\n",
    "    '100':'C', '200':'CC', '300':'CCC', '400':'CD', '500':'D', '600':'DC', '700':'DCC', '800':'DCCC', '900':'CM',\n",
    "    '1000':'M', '2000':'MM', '3000':'MMM'\n",
    "}\n",
    "\n",
    "def num_split(numeric):\n",
    "    n = 0\n",
    "    roman_nr = []\n",
    "    for i in range(1, len(numeric)+1):\n",
    "        result = (int(numeric[(-i)])*(10**n))\n",
    "        roman_nr.insert(0, conv_dict[str(result)])\n",
    "        n += 1\n",
    "    output = ''.join(roman_nr)\n",
    "    print('The conversion of \"{}\" to Roman Numerals is \"{}\".'.format(entry, output))\n",
    "\n",
    "num_split(entry)"
   ]
  }
 ],
 "metadata": {
  "interpreter": {
   "hash": "aee8b7b246df8f9039afb4144a1f6fd8d2ca17a180786b69acc140d282b71a49"
  },
  "kernelspec": {
   "display_name": "Python 3.10.4 64-bit",
   "language": "python",
   "name": "python3"
  },
  "language_info": {
   "codemirror_mode": {
    "name": "ipython",
    "version": 3
   },
   "file_extension": ".py",
   "mimetype": "text/x-python",
   "name": "python",
   "nbconvert_exporter": "python",
   "pygments_lexer": "ipython3",
   "version": "3.10.4"
  },
  "orig_nbformat": 4
 },
 "nbformat": 4,
 "nbformat_minor": 2
}
